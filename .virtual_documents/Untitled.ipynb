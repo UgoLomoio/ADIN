import os 
import pandas as pd
import torch

device = "cuda:0" if torch.cuda.is_available() else "cpu"
cwd = os.getcwd()
sep = os.sep 


expr_filename = cwd + sep + "use_case"+sep+"data"+sep+"bladder_cancer"+sep+"gene_expression_data_preprocessed.csv"
output = cwd + sep + "ouput.png"
expr = pd.read_csv(expr_filename, index_col = 0)
expr


targets = pd.DataFrame(expr["Target"])
expr = expr.drop("Target", axis = 1)


from adin import utils 
isns, interaction_df = utils.create_sparse_isns(expr, th = 0.999)
print(f"Interaction dataframe: {interaction_df}")
isns = torch.stack(isns).to(device)
isns = isns.T
print(isns.shape)


edge_list = [row["feature_1"]+"_"+row["feature_2"] for index, row in interaction_df.iterrows()]
# Parse the edges and create node mapping
source_nodes, target_nodes, node_mapping = utils.parse_edges(edge_list)
# Create edge_index tensor
edge_index = utils.create_edge_index(source_nodes, target_nodes)
    
x = isns.clone().detach().requires_grad_(True).to(device)
y = torch.tensor(targets.values).to(device).flatten()
edge_index = edge_index.to(device)
print(x.shape, y.shape, edge_index.shape)


from adin import gaan_config, dl

uqs, counts = torch.unique(y, return_counts = True)
dict_counts = {}
for uq, count in zip(uqs, counts):
    dict_counts[uq.item()] = count.item()
contamination = (dict_counts[1]/(dict_counts[0] + dict_counts[1]))*0.5
gpu = 0 if torch.cuda.is_available() else -1
gaan_params = gaan_config.GAAN_config(noise_dim=64, hid_dim=128, num_layers=2, dropout=0.3, contamination=contamination, lr = 0.00005, epoch = 200, gpu = gpu, batch_size=1, verbose = 1, isn = True, th = 0.93)

mydataloader = dl.create_torch_geo_data(x, y, edge_index)
node_mapping_rev = {value: key for key, value in node_mapping.items()}

print("Train - Test split")
dataloader_train, dataloader_test = dl.train_test_split_and_mask(mydataloader, node_mapping_rev, train_size = 0.7)
in_dim = dataloader_train.x.shape[1]


print("Create GAAN model")
model = dl.create_model(in_dim, gaan_params, isn = True)
model = dl.train_gaan(model, dataloader_train)
models["GAAN_isn"] = model
if "Temp" in models.keys():
    del models["Temp"]
df_result = dl.create_results_df({"GAAN_isn": model}, dataloader_test)
df_result


preds = model.predict(dataloader_test).cpu()
explainer = None
explainers["GAAN_isn"] = explainer   
y_test = dataloader_test.y.cpu()
classes = {0: "Normal", 1: "Anomalous"}
cm = confusion_matrix(y_test, preds)
fig_cm = dl.plot_cm(classes, cm, "GAAN_isn")
fig_roc_test = ml.plot_roc_curve_(y_test, preds)
fig_cm.show()
fig_roc_test.show()
